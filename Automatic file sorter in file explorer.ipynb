{
 "cells": [
  {
   "cell_type": "markdown",
   "id": "fc94e0b8-a5f4-49f8-8e9e-ad39a3505239",
   "metadata": {},
   "source": [
    "# Automatización de Organización de Archivos en Carpetas según Formato"
   ]
  },
  {
   "cell_type": "markdown",
   "id": "adf2bbd1-f454-4929-987f-b4d432cc2876",
   "metadata": {},
   "source": [
    "**Objetivos del Proyecto:**\n",
    "\n",
    "El objetivo principal de este proyecto es desarrollar un sistema automatizado que organice eficientemente archivos en carpetas basadas en sus extensiones. Este sistema busca ahorrar tiempo y esfuerzo en la tarea manual de categorizar y ordenar archivos, mejorando así la productividad y la eficiencia.\n",
    "\n",
    "**Características Clave:**\n",
    "\n",
    "- Identificación automática de extensiones:  El sistema identifica automáticamente las extensiones de los archivos presentes en un directorio específico.\n",
    "- Creación dinámica de carpetas: Se crean carpetas individuales para cada extensión de archivo detectada, asegurando una organización óptima.\n",
    "- Automatización programada: Se implementa una función que ejecuta la organización de archivos cada cierto intervalo de tiempo, eliminando la necesidad de intervención manual repetida.\n",
    "\n",
    "**Beneficios:**\n",
    "\n",
    "- Ahorro de tiempo y esfuerzo: La automatización reduce drásticamente la necesidad de organizar archivos manualmente, permitiendo a los usuarios concentrarse en tareas más estratégicas.\n",
    "- Mayor orden y accesibilidad: Los archivos se almacenan en carpetas temáticas, lo que facilita la búsqueda y recuperación de documentos.\n",
    "- Adaptabilidad a diferentes formatos: El sistema se adapta a una variedad de extensiones de archivo, proporcionando una solución versátil para diversos tipos de archivos.\n",
    "\n",
    "Este proyecto demuestra habilidades en programación, automatización y resolución de problemas, así como una comprensión de la eficiencia y la productividad en el entorno laboral. La función automatizada propuesta, presenta un potencial significativo para optimizar flujos de trabajo y mejorar la gestión de archivos en diversas situaciones.\n"
   ]
  },
  {
   "cell_type": "code",
   "execution_count": null,
   "id": "5491a90b-142f-4bf4-b195-246229c51666",
   "metadata": {},
   "outputs": [],
   "source": []
  },
  {
   "cell_type": "code",
   "execution_count": 6,
   "id": "29c8b936",
   "metadata": {},
   "outputs": [],
   "source": [
    "# Importación de las bibliotecas necesarias\n",
    "import os, shutil"
   ]
  },
  {
   "cell_type": "code",
   "execution_count": 7,
   "id": "92ef20df",
   "metadata": {},
   "outputs": [],
   "source": [
    "# Ruta de la carpeta donde se encuentran los archivos a organizar\n",
    "\n",
    "path = r\"C:/Users/SANTIAGO FAJARDO/Documents/material de estudio DA-DS/proyectos/sorter/\""
   ]
  },
  {
   "cell_type": "code",
   "execution_count": 9,
   "id": "7ffa8808",
   "metadata": {},
   "outputs": [],
   "source": [
    "# Lista de nombres de archivos en la carpeta de origen\n",
    "\n",
    "file_name = os.listdir(path)"
   ]
  },
  {
   "cell_type": "markdown",
   "id": "e3da4bb8-3b47-4187-a026-1d4ffd01ac86",
   "metadata": {},
   "source": [
    "### Escenario 1"
   ]
  },
  {
   "cell_type": "markdown",
   "id": "aa74bdf0-4af9-41c4-ac7f-122828e38a2e",
   "metadata": {},
   "source": [
    "Supongamos el escenario donde tenemos la tarea de organizar un directorio creando carpetas para cada formato en específico. Crearemos una carpeta para los formatos excel o csv, otra para imágenes y otra para documentos de texto."
   ]
  },
  {
   "cell_type": "code",
   "execution_count": 4,
   "id": "ed0b1647",
   "metadata": {},
   "outputs": [],
   "source": [
    "\n",
    "# Lista de nombres de carpetas en las que se organizarán los archivos\n",
    "folder_names = ['spreadsheet files', 'image files', 'text files']\n",
    "\n",
    "\n",
    "\n",
    "# Creación de carpetas si no existen\n",
    "\n",
    "for folder in folder_names:\n",
    "    folder_path = os.path.join(path, folder)\n",
    "    if not os.path.exists(folder_path):\n",
    "        os.makedirs(folder_path)\n",
    "        \n",
    "# Proceso de organización de archivos\n",
    "\n",
    "for file in file_name:\n",
    "    file_path = os.path.join(path, file)\n",
    "    \n",
    " # Verificación de la extensión del archivo para determinar la carpeta de destino\n",
    "\n",
    "    if file.endswith((\".xlsx\", \".csv\")):\n",
    "        destination_folder = os.path.join(path, \"spreadsheet files\")\n",
    "    elif file.endswith((\".png\", \".jpg\")):\n",
    "        destination_folder = os.path.join(path, \"image files\")\n",
    "    elif file.endswith((\".txt\", \".docx\")):\n",
    "        destination_folder = os.path.join(path, \"text files\")\n",
    "    else:\n",
    "        continue # Si la extensión no es reconocida, continúa con el siguiente archivo\n",
    "        \n",
    " # Ruta completa de la carpeta de destino y el archivo en esa carpeta\n",
    "    destination_path = os.path.join(destination_folder, file)\n",
    "    \n",
    "# Si el archivo no existe en la carpeta de destino, se mueve\n",
    "    if not os.path.exists(destination_path):\n",
    "        shutil.move(file_path, destination_path)        \n",
    "        \n",
    "        \n",
    "\n"
   ]
  },
  {
   "cell_type": "markdown",
   "id": "f89ee614-904b-47c4-a808-136cd967bf79",
   "metadata": {},
   "source": [
    "### Escenario 2"
   ]
  },
  {
   "cell_type": "markdown",
   "id": "c1089ba0-bcfe-4586-96da-356a945d45d5",
   "metadata": {},
   "source": [
    "Ahora, pensemos que pasaría si al directorio llegaran muchos y de muy variados tipos de formato, o si no conocemos todos los formatos de los archivos que se destinarán al directorio. En este caso, sería conveniente reogranizar el código para que enliste cada el directorio según el formato de los archivos y en ese sentido cree una carpeta para cada uno."
   ]
  },
  {
   "cell_type": "code",
   "execution_count": null,
   "id": "eb773c72",
   "metadata": {},
   "outputs": [],
   "source": [
    "import os\n",
    "import shutil\n",
    "\n",
    "# Especifica el directorio que deseas organizar\n",
    "source_directory = r\"C:/Users/SANTIAGO FAJARDO/Documents/material de estudio DA-DS/proyectos/sorter/\"\n",
    "\n",
    "try:\n",
    "    # Obtiene una lista de todos los archivos en el directorio fuente\n",
    "    file_list = os.listdir(source_directory)\n",
    "\n",
    "    # Crea una carpeta para cada extensión de archivo\n",
    "    for file_name in file_list:\n",
    "        file_extension = os.path.splitext(file_name)[1][1:]  # Obtén la extensión del archivo\n",
    "        destination_folder = os.path.join(source_directory, file_extension)\n",
    "        \n",
    "        # Crea la carpeta de destino si no existe\n",
    "        if not os.path.exists(destination_folder):\n",
    "            os.makedirs(destination_folder)\n",
    "        \n",
    "        # Mueve el archivo a la carpeta correspondiente\n",
    "        source_path = os.path.join(source_directory, file_name)\n",
    "        destination_path = os.path.join(destination_folder, file_name)\n",
    "        shutil.move(source_path, destination_path)\n",
    "except Exception as e:\n",
    "    print(f\"Ocurrió un error al organizar los archivos: {e}\")\n"
   ]
  },
  {
   "cell_type": "markdown",
   "id": "03eb942d-8532-4b1a-aef4-c208fb3a3859",
   "metadata": {},
   "source": [
    "### Escenario 3: Automatización"
   ]
  },
  {
   "cell_type": "markdown",
   "id": "d2a25585-4577-45cb-953d-9705e4a22464",
   "metadata": {},
   "source": [
    "Supongamos el caso hipotetico donde se tenga un requerimiento de actualizar y ordenar un directorio al comenzar, en la mitad y al finalizar la jornada laboral. Resulta útil entonces, crear una función que se ejecute cada 3,5 horas 3 veces al día."
   ]
  },
  {
   "cell_type": "code",
   "execution_count": null,
   "id": "c08cf9e1-fbbe-4f1a-b8d3-3780bd425798",
   "metadata": {},
   "outputs": [],
   "source": [
    "import os\n",
    "import shutil\n",
    "import time\n",
    "\n",
    "def organize_files():\n",
    "    source_directory = r\"C:/Users/SANTIAGO FAJARDO/Documents/material de estudio DA-DS/proyectos/sorter/\"\n",
    "    \n",
    "    try:\n",
    "        file_list = os.listdir(source_directory)\n",
    "    \n",
    "        for file_name in file_list:\n",
    "            file_extension = os.path.splitext(file_name)[1][1:]  # Obtén la extensión del archivo\n",
    "            destination_folder = os.path.join(source_directory, file_extension)\n",
    "            \n",
    "            if not os.path.exists(destination_folder):\n",
    "                os.makedirs(destination_folder)\n",
    "            \n",
    "            source_path = os.path.join(source_directory, file_name)\n",
    "            destination_path = os.path.join(destination_folder, file_name)\n",
    "            shutil.move(source_path, destination_path)\n",
    "    except Exception as e:\n",
    "        print(f\"Ocurrió un error al organizar los archivos: {e}\")\n",
    "\n",
    "# Ejecutar la función al principio, a la mitad y al final de una jornada laboral de 8 horas\n",
    "for _ in range(3):  # 3 ejecuciones para cubrir 8 horas\n",
    "    organize_files()\n",
    "    print('Directorio actualizado')\n",
    "    time.sleep(12600)  # Esperar 3.5 horas (12600 segundos)\n",
    "\n",
    "exit()\n"
   ]
  },
  {
   "cell_type": "markdown",
   "id": "c75ae26d-6013-4854-9e72-0a44408292d3",
   "metadata": {},
   "source": [
    "Con la ejecución del anterior snippet se satisface el requerimiento repetitivo de la organización de archivos de muchos formatos dentro de sus correspondientes carpetas."
   ]
  },
  {
   "cell_type": "code",
   "execution_count": null,
   "id": "24ae7488",
   "metadata": {},
   "outputs": [],
   "source": []
  },
  {
   "cell_type": "code",
   "execution_count": null,
   "id": "347e8c1d",
   "metadata": {},
   "outputs": [],
   "source": []
  },
  {
   "cell_type": "code",
   "execution_count": null,
   "id": "127ac72b-bd75-4d4c-b556-b907a5d2eb26",
   "metadata": {},
   "outputs": [],
   "source": []
  }
 ],
 "metadata": {
  "kernelspec": {
   "display_name": "Python 3 (ipykernel)",
   "language": "python",
   "name": "python3"
  },
  "language_info": {
   "codemirror_mode": {
    "name": "ipython",
    "version": 3
   },
   "file_extension": ".py",
   "mimetype": "text/x-python",
   "name": "python",
   "nbconvert_exporter": "python",
   "pygments_lexer": "ipython3",
   "version": "3.10.9"
  }
 },
 "nbformat": 4,
 "nbformat_minor": 5
}
